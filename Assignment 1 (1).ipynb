{
 "cells": [
  {
   "cell_type": "markdown",
   "id": "8491a96c",
   "metadata": {},
   "source": [
    "Wind Chill Calculation with input from user"
   ]
  },
  {
   "cell_type": "code",
   "execution_count": 1,
   "id": "b7a31d1e",
   "metadata": {},
   "outputs": [
    {
     "name": "stdout",
     "output_type": "stream",
     "text": [
      "Air Temperature: 5\n",
      "(C)elcius or (F)arenheit: c\n",
      "great\n",
      "Wind Speed: 20\n",
      "(K)m/h or (M)phm\n",
      "great, we've converted this to km/h for the calculation\n",
      "The Wind Chill Factor is:\n",
      "-0.13231537539875937\n"
     ]
    }
   ],
   "source": [
    "import sys\n",
    "\n",
    "# T = air temperature in Celcius\n",
    "# v = wind speed in km/h\n",
    "\n",
    "temp_any = input('Air Temperature: ')\n",
    "# to collect data for T\n",
    "temp_c_f = input('(C)elcius or (F)arenheit: ')\n",
    "# to determine whether temperature data needs converting\n",
    "\n",
    "if temp_c_f.upper() == 'C':\n",
    "    temp_c = int(temp_any)\n",
    "    # if Celcius no conversion necessary as C is required for the calculation\n",
    "    # C is converted from str to int and stored in temp_c\n",
    "    print(\"great\")\n",
    "    # str is printed for confirmation that program recieved the data correctly\n",
    "elif temp_c_f.upper() == 'F':\n",
    "    # temerature requires conversion\n",
    "    temp_c = (int(temp_any)-32)*5/9 \n",
    "    # temperature is converted from str to int and than converted from F to C and stored in temp_c\n",
    "    print(\"great, we've converted this to celcius for the calculation\")\n",
    "    # str is printed to confirm program recieved the data and has converted it\n",
    "else:\n",
    "    # str printed to alert the user that the input was not understood by the program\n",
    "    sys.exit(\"Error: I didn't understand that, make sure you enter C or F, please run again\")\n",
    "    # sys.exit() implemented to stop the program due to error\n",
    "    \n",
    "if temp_c > 10:\n",
    "    # to check if program can be run and produce a valid calculation\n",
    "    sys.exit(\"Error: this calculation is only considered valid for temperatures less than or equal to 10 degrees Celsius\")\n",
    "    # sys.exit() implemented to stop the program due to error\n",
    "else:\n",
    "    pass\n",
    "    \n",
    "wind_any = input('Wind Speed: ')\n",
    "# to collect data for v\n",
    "wind_mph_kmh = input('(K)m/h or (M)ph')\n",
    "# to determine if wind speed data needs converion\n",
    "\n",
    "if wind_mph_kmh.upper() == 'K':\n",
    "    wind_k = int(wind_any)\n",
    "    # no converion necessary, data is converted from str to int and stored in wind_k\n",
    "    print('great')\n",
    "    # str is printed to confirm program recieved the data\n",
    "elif wind_mph_kmh.upper() == 'M':\n",
    "    wind_k = int(wind_any)*1.60934\n",
    "    # data requires converion, converted from str to int, converted from mph to km/h and stored in wind_k\n",
    "    print(\"great, we've converted this to km/h for the calculation\")\n",
    "    # str printed to confirm data recieved and converted\n",
    "else:\n",
    "    sys.exit(\"Error: I didn't understand that, make sure you enter K or M, please run again\")\n",
    "    # sys.exit() implemented to stop the program due to error\n",
    "\n",
    "if wind_k < 4.8:\n",
    "    # to check if program can be run and produce a valid calculation\n",
    "    sys.exit(\"Error: this calculation is only considered valid for wind speeds exceeding 4.8 km/h\")\n",
    "    # sys.exit() implemented to stop the program due to error\n",
    "else:\n",
    "    pass\n",
    "\n",
    "T = temp_c\n",
    "v = wind_k\n",
    "# recieved data from stored values converted to equation values\n",
    "\n",
    "def wind_chill():\n",
    "    print(13.12+0.6215*T-11.37*v**0.16+0.3965*T*v**0.16)\n",
    "    # wind chill equation\n",
    "\n",
    "print(f'The Wind Chill Factor is:') \n",
    "wind_chill()\n",
    "# prints result of wind chill factor equation\n"
   ]
  },
  {
   "cell_type": "code",
   "execution_count": null,
   "id": "c6026205",
   "metadata": {},
   "outputs": [],
   "source": []
  }
 ],
 "metadata": {
  "kernelspec": {
   "display_name": "Python 3",
   "language": "python",
   "name": "python3"
  },
  "language_info": {
   "codemirror_mode": {
    "name": "ipython",
    "version": 3
   },
   "file_extension": ".py",
   "mimetype": "text/x-python",
   "name": "python",
   "nbconvert_exporter": "python",
   "pygments_lexer": "ipython3",
   "version": "3.8.8"
  }
 },
 "nbformat": 4,
 "nbformat_minor": 5
}
